{
 "cells": [
  {
   "attachments": {},
   "cell_type": "markdown",
   "metadata": {},
   "source": [
    "### TFRecord for Tabular Data\n",
    "\n",
    "refernce: [Medium Article](https://medium.com/ymedialabs-innovation/how-to-use-tfrecord-with-datasets-and-iterators-in-tensorflow-with-code-samples-ffee57d298af)\n"
   ]
  },
  {
   "cell_type": "code",
   "execution_count": null,
   "metadata": {},
   "outputs": [],
   "source": [
    "import tensorflow as tf"
   ]
  },
  {
   "cell_type": "code",
   "execution_count": 2,
   "metadata": {},
   "outputs": [],
   "source": [
    "# make tfrec for alphanumeric data\n",
    "\n",
    "# prepare data observations as array of dictionary of {feature:value} pairs\n",
    "data_arr = [\n",
    "    {\n",
    "        'int_data': 108,\n",
    "        'float_data': 2.45,\n",
    "        'str_data': 'My String 100',\n",
    "        'float_list_data': [256.78, 13.9]\n",
    "    },\n",
    "    {\n",
    "        'int_data': 37,\n",
    "        'float_data': 84.3,\n",
    "        'str_data': 'My String 200',\n",
    "        'float_list_data': [1.34, 843.9, 65.22]\n",
    "    }\n",
    "]\n",
    "\n",
    "def get_example_object(data_record):\n",
    "    ''' create example from given data record '''\n",
    "    # Convert individual data into a list of int64 or float or bytes\n",
    "    int_list1 = tf.train.Int64List(value = [data_record['int_data']])\n",
    "    float_list1 = tf.train.FloatList(value = [data_record['float_data']])\n",
    "    # Convert string data into list of bytes\n",
    "    str_list1 = tf.train.BytesList(value = [data_record['str_data'].encode('utf-8')])\n",
    "    float_list2 = tf.train.FloatList(value = data_record['float_list_data'])\n",
    "\n",
    "    # Create a dictionary with above lists individually wrapped in Feature\n",
    "    feature_key_value_pair = {\n",
    "        'int_list1': tf.train.Feature(int64_list = int_list1),\n",
    "        'float_list1': tf.train.Feature(float_list = float_list1),\n",
    "        'str_list1': tf.train.Feature(bytes_list = str_list1),\n",
    "        'float_list2': tf.train.Feature(float_list = float_list2)\n",
    "    }\n",
    "\n",
    "    # Create Features object with above feature dictionary\n",
    "    features = tf.train.Features(feature = feature_key_value_pair)\n",
    "\n",
    "    # Create Example object with features\n",
    "    example = tf.train.Example(features = features)\n",
    "    return example\n",
    "\n",
    "with tf.io.TFRecordWriter('example.tfrecord') as tfwriter:\n",
    "    # Iterate through all data\n",
    "    for data_record in data_arr:\n",
    "        # make example object\n",
    "        example = get_example_object(data_record)\n",
    "        # Append each example into tfrecord\n",
    "        tfwriter.write(example.SerializeToString())"
   ]
  },
  {
   "cell_type": "code",
   "execution_count": 3,
   "metadata": {},
   "outputs": [
    {
     "name": "stderr",
     "output_type": "stream",
     "text": [
      "2023-05-18 20:32:16.529993: W tensorflow/compiler/xla/stream_executor/platform/default/dso_loader.cc:64] Could not load dynamic library 'libcuda.so.1'; dlerror: libcuda.so.1: cannot open shared object file: No such file or directory\n",
      "2023-05-18 20:32:16.530485: W tensorflow/compiler/xla/stream_executor/cuda/cuda_driver.cc:265] failed call to cuInit: UNKNOWN ERROR (303)\n",
      "2023-05-18 20:32:16.530516: I tensorflow/compiler/xla/stream_executor/cuda/cuda_diagnostics.cc:156] kernel driver does not appear to be running on this host (zephyr): /proc/driver/nvidia/version does not exist\n"
     ]
    },
    {
     "name": "stdout",
     "output_type": "stream",
     "text": [
      "108\n",
      "2.45\n",
      "My String 100\n",
      "[256.78  13.9 ]\n",
      "\n",
      "37\n",
      "84.3\n",
      "My String 200\n",
      "[  1.34 843.9   65.22]\n",
      "\n"
     ]
    }
   ],
   "source": [
    "def extract_fn(data_record):\n",
    "    features = {\n",
    "        # Extract features using the keys set during creation\n",
    "        'int_list1': tf.io.FixedLenFeature([], tf.int64),\n",
    "        'float_list1': tf.io.FixedLenFeature([], tf.float32),\n",
    "        'str_list1': tf.io.FixedLenFeature([], tf.string),\n",
    "        # If size is different of different records, use VarLenFeature \n",
    "        'float_list2': tf.io.VarLenFeature(tf.float32)\n",
    "    }\n",
    "    sample = tf.io.parse_single_example(data_record, features)\n",
    "    return sample\n",
    "\n",
    "# Initialize all tfrecord paths\n",
    "dataset = tf.data.TFRecordDataset(['example.tfrecord']) # provide list of tfrecord paths\n",
    "dataset = dataset.map(extract_fn) # map extracting func to dataset\n",
    "iterator = iter(dataset) # create iterator for elements in dataset\n",
    "\n",
    "# next_element = iterator.get_next()\n",
    "for item in iterator:\n",
    "  print(item['int_list1'].numpy())\n",
    "  print(item['float_list1'].numpy())\n",
    "  print(item['str_list1'].numpy().decode())\n",
    "  print(item['float_list2'].values.numpy())\n",
    "  print()"
   ]
  }
 ],
 "metadata": {
  "kernelspec": {
   "display_name": "ml",
   "language": "python",
   "name": "python3"
  },
  "language_info": {
   "codemirror_mode": {
    "name": "ipython",
    "version": 3
   },
   "file_extension": ".py",
   "mimetype": "text/x-python",
   "name": "python",
   "nbconvert_exporter": "python",
   "pygments_lexer": "ipython3",
   "version": "3.10.8"
  },
  "orig_nbformat": 4
 },
 "nbformat": 4,
 "nbformat_minor": 2
}
